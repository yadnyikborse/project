{
  "cells": [
    {
      "cell_type": "code",
      "execution_count": null,
      "id": "1ec48cb9-0a94-401c-9b08-0e56a8f3896e",
      "metadata": {
        "tags": [],
        "id": "1ec48cb9-0a94-401c-9b08-0e56a8f3896e"
      },
      "outputs": [],
      "source": [
        "import pandas as pd\n",
        "\n",
        "# List of legitimate domains (150 examples)\n",
        "legitimate_domains = [\n",
        "    'google.com', 'facebook.com', 'amazon.com', 'twitter.com', 'microsoft.com',\n",
        "    'apple.com', 'linkedin.com', 'github.com', 'stackoverflow.com', 'nytimes.com',\n",
        "    'bbc.com', 'cnn.com', 'forbes.com', 'yahoo.com', 'bing.com', 'adobe.com',\n",
        "    'paypal.com', 'netflix.com', 'hulu.com', 'reddit.com', 'quora.com', 'dropbox.com',\n",
        "    'wordpress.com', 'blogger.com', 'instagram.com', 'pinterest.com', 'tumblr.com',\n",
        "    'flickr.com', 'ebay.com', 'medium.com', 'walmart.com', 'etsy.com', 'npr.org',\n",
        "    'buzzfeed.com', 'mashable.com', 'latimes.com', 'huffpost.com', 'businessinsider.com',\n",
        "    'usatoday.com', 'vox.com', 'theguardian.com', 'washingtonpost.com', 'reuters.com',\n",
        "    'bloomberg.com', 'techcrunch.com', 'engadget.com', 'gizmodo.com', 'cnet.com',\n",
        "    'zdnet.com', 'verge.com', 'macrumors.com', 'wired.com', 'arstechnica.com',\n",
        "    'slate.com', 'poligon.com', 'kotaku.com', 'ign.com', 'gamespot.com', 'metacritic.com',\n",
        "    'rottentomatoes.com', 'imdb.com', 'netflix.com', 'spotify.com', 'soundcloud.com',\n",
        "    'pandora.com', 'last.fm', 'bandcamp.com', 'pitchfork.com', 'theatlantic.com',\n",
        "    'newyorker.com', 'rollingstone.com', 'vulture.com', 'nme.com', 'thefader.com',\n",
        "    'billboard.com', 'spin.com', 'complex.com', 'allmusic.com', 'genius.com',\n",
        "    'rapgenius.com', 'bbc.co.uk', 'guardian.co.uk', 'telegraph.co.uk', 'dailymail.co.uk',\n",
        "    'independent.co.uk', 'ft.com', 'economist.com', 'wsj.com', 'nydailynews.com',\n",
        "    'chicagotribune.com', 'nypost.com', 'boston.com', 'philly.com', 'sfchronicle.com',\n",
        "    'seattletimes.com', 'miamiherald.com', 'denverpost.com', 'orlandosentinel.com',\n",
        "    'tampabay.com', 'azcentral.com', 'cleveland.com', 'baltimoresun.com', 'theepochtimes.com',\n",
        "    'newsmax.com', 'drudgereport.com', 'politico.com', 'hill.com', 'time.com', 'newsweek.com',\n",
        "    'usatoday.com', 'nbcnews.com', 'abcnews.go.com', 'cbsnews.com', 'foxnews.com',\n",
        "    'msnbc.com', 'aljazeera.com', 'bloomberg.com', 'theweek.com', 'thedailybeast.com',\n",
        "    'salon.com', 'vice.com', 'vox.com', 'slate.com', 'vanityfair.com', 'newyorkmag.com',\n",
        "    'nationalgeographic.com', 'disney.com', 'pixar.com', 'marvel.com', 'dccomics.com',\n",
        "    'warnerbros.com', 'universalstudios.com', 'paramount.com', 'dreamworks.com', 'hbo.com',\n",
        "    'showtime.com', 'starz.com', 'amc.com', 'netflix.com', 'hulu.com', 'primevideo.com',\n",
        "    'disneyplus.com', 'peacocktv.com', 'hbomax.com', 'youtube.com', 'vimeo.com',\n",
        "    'dailymotion.com', 'twitch.tv', 'mixer.com', 'facebook.com', 'twitter.com',\n",
        "    'linkedin.com', 'snapchat.com', 'tiktok.com', 'whatsapp.com', 'telegram.org'\n",
        "]\n",
        "\n",
        "# Create a DataFrame\n",
        "legitimate_df = pd.DataFrame({\n",
        "    'domain': legitimate_domains,\n",
        "    'label': 0\n",
        "})\n",
        "\n",
        "# Save to CSV\n",
        "legitimate_df.to_csv('legitimate_domains.csv', index=False)\n"
      ]
    },
    {
      "cell_type": "code",
      "execution_count": null,
      "id": "5d96b305-ce30-4aa0-9814-290244521fdf",
      "metadata": {
        "tags": [],
        "id": "5d96b305-ce30-4aa0-9814-290244521fdf"
      },
      "outputs": [],
      "source": [
        "# List of DGA-like domains (150 examples)\n",
        "dga_like_domains = [\n",
        "    'gllcsbqrbfch.com', 'hkgjjokkwodt.com', 'jjnehudfmclq.com', 'hieffvbcjitc.com',\n",
        "    'fckjmggtxchv.com', 'gotmnoxdlmqy.com', 'lsnuwgkjbubr.com', 'jmtkcbjfrnwp.com',\n",
        "    'bkjciirqpmrs.com', 'hcbdceyvftuf.com', 'kglydddmwwxv.com', 'ejddgfnoyhnn.com',\n",
        "    'oovsccucdqjj.com', 'dkrvosdssglm.com', 'jedsotqkhiiu.com', 'bbrrqphmdtls.com',\n",
        "    'kcbcdbpsbmuf.com', 'ddqmqhovyxbg.com', 'cppwsolhkcis.com', 'nonehgdemxxw.com',\n",
        "    'niursdelppbp.com', 'bghqqyeepkot.com', 'dccffgttisty.com', 'bbsgdsbwobbn.com',\n",
        "    'kdokruvnkkoq.com', 'xttumqsgbswj.com', 'jiyfgpmknkkj.com', 'gcdhgdqbolsb.com',\n",
        "    'ggfujvjslmri.com', 'dldgeddsrqlg.com', 'rujybsklhdna.com', 'xgtodddcdeoa.com',\n",
        "    'ztjddflsdfjb.com', 'mnahbhcgijcn.com', 'nhfkrgdieqmo.com', 'sdkbsoelgijd.com',\n",
        "    'jdksllfmsdle.com', 'pladmdadmdel.com', 'dmflamfbfidl.com', 'mdklsmcndlsm.com',\n",
        "    'pfnskfbmczdo.com', 'pfnsdlbfblcz.com', 'nklfnmsbflzl.com', 'fnslmsbfldmk.com',\n",
        "    'dmfblsmcnlks.com', 'dmdlnzmdldcn.com', 'mdlfldmsfnml.com', 'dmslbdmslmdb.com',\n",
        "    'dmznlcnmsflk.com', 'bmdlscmlsndf.com', 'dmnclsnlfmbl.com', 'mnclsmbdlcsl.com',\n",
        "    'dmscnlsdmlnl.com', 'dmsldmnsldfn.com', 'dmsbflznflml.com', 'msnldmnflmbl.com',\n",
        "    'dmnclmsdmlnd.com', 'mdlsmdflmbls.com', 'mndclsmldfms.com', 'fmdlsmlfnsmd.com',\n",
        "    'mdlfmndlsmbl.com', 'dmznlcmdmsfn.com', 'ndflmndlbfml.com', 'mdnlmsfmdbls.com',\n",
        "    'mlsnfdmsflmd.com', 'fnmdmsldmlsd.com', 'mdflmnsdmldm.com', 'fdmlmnsfldml.com',\n",
        "    'dsmnlmdslfnm.com', 'mdlcmnslfmns.com', 'msdlmlsdmsnd.com', 'mdslmfnsldms.com',\n",
        "    'dsfmsldmsldm.com', 'msflmlndlmbl.com', 'ldfmlmsfnmdl.com', 'msndmfmsldml.com',\n",
        "    'mlsndmflmnsd.com', 'mslnmfmsdmls.com', 'msnlmfmsdmlm.com', 'dmsfnmlmdsmn.com',\n",
        "    'fndmsnflsmnl.com', 'mfnsldmslmdm.com', 'dmsnfldmslmn.com', 'dmslmfmsldmn.com',\n",
        "    'msfmlnmsldml.com', 'mlsdmfldsmnl.com', 'fndlsmndlfms.com', 'msdlmsdnldml.com',\n",
        "    'dmndfmlsnlmd.com', 'fmsldmsndlsm.com', 'lsdmdmsndmsd.com', 'dmsfnlmdnsml.com',\n",
        "    'dmsnlmfnsmdl.com', 'mlsndflmsdml.com', 'dsfldmslfmdn.com', 'mdsmfmlndmsl.com',\n",
        "    'dmsndflmsldm.com', 'lsdfmlsnfmdl.com', 'mdslmfnsmlnd.com', 'dmlsnflmdsmd.com',\n",
        "    'msdmlsmfnlsd.com', 'dmsflmndfnms.com', 'msnlmdflsmnl.com', 'dmslnfdlmsml.com',\n",
        "    'fnmsldmlsndm.com', 'dmsfmlsndmsl.com', 'mlsndmlfsmnl.com', 'fnsmdlfmnsdm.com',\n",
        "    'dmsfmlsndmlm.com', 'msldmflmndfl.com', 'dsfmslmdnmsl.com', 'msdmlfmsdmln.com'\n",
        "]\n",
        "\n",
        "# Create a DataFrame\n",
        "dga_df = pd.DataFrame({\n",
        "    'domain': dga_like_domains,\n",
        "    'label': 1\n",
        "})\n",
        "\n",
        "# Save to CSV\n",
        "dga_df.to_csv('dga_like_domains.csv', index=False)\n"
      ]
    },
    {
      "cell_type": "code",
      "execution_count": null,
      "id": "ec49ac4b-7014-4704-8dc2-a35882ef5565",
      "metadata": {
        "tags": [],
        "colab": {
          "base_uri": "https://localhost:8080/"
        },
        "id": "ec49ac4b-7014-4704-8dc2-a35882ef5565",
        "outputId": "9666b900-0f2b-4b49-d398-367776cdbdca"
      },
      "outputs": [
        {
          "output_type": "stream",
          "name": "stdout",
          "text": [
            "Data shuffled successfully into 'shuffled_domains.csv'\n"
          ]
        }
      ],
      "source": [
        "import pandas as pd\n",
        "from sklearn.utils import shuffle\n",
        "\n",
        "# Load the merged and labeled data\n",
        "data = pd.read_csv('aditya.csv')\n",
        "\n",
        "# Shuffle the data\n",
        "data_shuffled = shuffle(data, random_state=42)\n",
        "\n",
        "# Save the shuffled data to a new CSV file\n",
        "data_shuffled.to_csv('shuffled_domains.csv', index=False)\n",
        "\n",
        "print(\"Data shuffled successfully into 'shuffled_domains.csv'\")\n"
      ]
    },
    {
      "cell_type": "code",
      "execution_count": null,
      "id": "f7afb7ea-1af7-4809-8c1d-0ecdbdcc25e5",
      "metadata": {
        "tags": [],
        "colab": {
          "base_uri": "https://localhost:8080/"
        },
        "id": "f7afb7ea-1af7-4809-8c1d-0ecdbdcc25e5",
        "outputId": "b91046df-8499-4079-b002-cb5229de1310"
      },
      "outputs": [
        {
          "output_type": "stream",
          "name": "stdout",
          "text": [
            "Data split into 'train_domains.csv' (60%) and 'test_domains.csv' (40%)\n"
          ]
        }
      ],
      "source": [
        "import pandas as pd\n",
        "from sklearn.utils import shuffle\n",
        "\n",
        "# Step 1: Load and Shuffle the Data\n",
        "# Load the merged and labeled data\n",
        "data = pd.read_csv('aditya.csv')\n",
        "\n",
        "# Shuffle the data\n",
        "data_shuffled = shuffle(data, random_state=42)\n",
        "\n",
        "# Save the shuffled data to a new CSV file (optional)\n",
        "data_shuffled.to_csv('aditya.csv', index=False)\n",
        "\n",
        "# Step 2: Split the Shuffled Data into Training and Test Sets\n",
        "\n",
        "# Calculate the split index for 60% of the data\n",
        "split_index = int(0.6 * len(data_shuffled))\n",
        "\n",
        "# Split the data into training (60%) and test (40%) sets\n",
        "train_data = data_shuffled[:split_index]\n",
        "test_data = data_shuffled[split_index:]\n",
        "\n",
        "# Save the training and test sets to separate CSV files\n",
        "train_data.to_csv('train_domains.csv', index=False)\n",
        "test_data.to_csv('test_domains.csv', index=False)\n",
        "\n",
        "print(f\"Data split into 'train_domains.csv' (60%) and 'test_domains.csv' (40%)\")\n"
      ]
    },
    {
      "cell_type": "code",
      "execution_count": null,
      "id": "72211e2b-3731-427d-8e53-b33bc9926fe8",
      "metadata": {
        "tags": [],
        "colab": {
          "base_uri": "https://localhost:8080/"
        },
        "id": "72211e2b-3731-427d-8e53-b33bc9926fe8",
        "outputId": "f620b926-0e3f-4528-a532-c43a67e4c6f1"
      },
      "outputs": [
        {
          "output_type": "stream",
          "name": "stdout",
          "text": [
            "Data split into 'train_domains.csv' (60%) and 'test_domains.csv' (40%)\n"
          ]
        }
      ],
      "source": [
        "# Calculate the split index\n",
        "split_index = int(0.6 * len(data_shuffled))\n",
        "\n",
        "# Split the data into training and test sets\n",
        "train_data = data_shuffled[:split_index]\n",
        "test_data = data_shuffled[split_index:]\n",
        "\n",
        "# Save the training and test sets to separate CSV files\n",
        "train_data.to_csv('train_domains.csv', index=False)\n",
        "test_data.to_csv('test_domains.csv', index=False)\n",
        "\n",
        "print(f\"Data split into 'train_domains.csv' (60%) and 'test_domains.csv' (40%)\")\n"
      ]
    },
    {
      "cell_type": "code",
      "source": [
        "!pip install tensorflow"
      ],
      "metadata": {
        "colab": {
          "base_uri": "https://localhost:8080/"
        },
        "id": "Khbb5NdK7Nlj",
        "outputId": "1695a4be-9e72-40bc-9d81-4eb37f8599ab"
      },
      "id": "Khbb5NdK7Nlj",
      "execution_count": null,
      "outputs": [
        {
          "output_type": "stream",
          "name": "stdout",
          "text": [
            "Requirement already satisfied: tensorflow in /usr/local/lib/python3.10/dist-packages (2.17.0)\n",
            "Requirement already satisfied: absl-py>=1.0.0 in /usr/local/lib/python3.10/dist-packages (from tensorflow) (1.4.0)\n",
            "Requirement already satisfied: astunparse>=1.6.0 in /usr/local/lib/python3.10/dist-packages (from tensorflow) (1.6.3)\n",
            "Requirement already satisfied: flatbuffers>=24.3.25 in /usr/local/lib/python3.10/dist-packages (from tensorflow) (24.3.25)\n",
            "Requirement already satisfied: gast!=0.5.0,!=0.5.1,!=0.5.2,>=0.2.1 in /usr/local/lib/python3.10/dist-packages (from tensorflow) (0.6.0)\n",
            "Requirement already satisfied: google-pasta>=0.1.1 in /usr/local/lib/python3.10/dist-packages (from tensorflow) (0.2.0)\n",
            "Requirement already satisfied: h5py>=3.10.0 in /usr/local/lib/python3.10/dist-packages (from tensorflow) (3.11.0)\n",
            "Requirement already satisfied: libclang>=13.0.0 in /usr/local/lib/python3.10/dist-packages (from tensorflow) (18.1.1)\n",
            "Requirement already satisfied: ml-dtypes<0.5.0,>=0.3.1 in /usr/local/lib/python3.10/dist-packages (from tensorflow) (0.4.0)\n",
            "Requirement already satisfied: opt-einsum>=2.3.2 in /usr/local/lib/python3.10/dist-packages (from tensorflow) (3.3.0)\n",
            "Requirement already satisfied: packaging in /usr/local/lib/python3.10/dist-packages (from tensorflow) (24.1)\n",
            "Requirement already satisfied: protobuf!=4.21.0,!=4.21.1,!=4.21.2,!=4.21.3,!=4.21.4,!=4.21.5,<5.0.0dev,>=3.20.3 in /usr/local/lib/python3.10/dist-packages (from tensorflow) (3.20.3)\n",
            "Requirement already satisfied: requests<3,>=2.21.0 in /usr/local/lib/python3.10/dist-packages (from tensorflow) (2.32.3)\n",
            "Requirement already satisfied: setuptools in /usr/local/lib/python3.10/dist-packages (from tensorflow) (71.0.4)\n",
            "Requirement already satisfied: six>=1.12.0 in /usr/local/lib/python3.10/dist-packages (from tensorflow) (1.16.0)\n",
            "Requirement already satisfied: termcolor>=1.1.0 in /usr/local/lib/python3.10/dist-packages (from tensorflow) (2.4.0)\n",
            "Requirement already satisfied: typing-extensions>=3.6.6 in /usr/local/lib/python3.10/dist-packages (from tensorflow) (4.12.2)\n",
            "Requirement already satisfied: wrapt>=1.11.0 in /usr/local/lib/python3.10/dist-packages (from tensorflow) (1.16.0)\n",
            "Requirement already satisfied: grpcio<2.0,>=1.24.3 in /usr/local/lib/python3.10/dist-packages (from tensorflow) (1.64.1)\n",
            "Requirement already satisfied: tensorboard<2.18,>=2.17 in /usr/local/lib/python3.10/dist-packages (from tensorflow) (2.17.0)\n",
            "Requirement already satisfied: keras>=3.2.0 in /usr/local/lib/python3.10/dist-packages (from tensorflow) (3.4.1)\n",
            "Requirement already satisfied: tensorflow-io-gcs-filesystem>=0.23.1 in /usr/local/lib/python3.10/dist-packages (from tensorflow) (0.37.1)\n",
            "Requirement already satisfied: numpy<2.0.0,>=1.23.5 in /usr/local/lib/python3.10/dist-packages (from tensorflow) (1.26.4)\n",
            "Requirement already satisfied: wheel<1.0,>=0.23.0 in /usr/local/lib/python3.10/dist-packages (from astunparse>=1.6.0->tensorflow) (0.44.0)\n",
            "Requirement already satisfied: rich in /usr/local/lib/python3.10/dist-packages (from keras>=3.2.0->tensorflow) (13.7.1)\n",
            "Requirement already satisfied: namex in /usr/local/lib/python3.10/dist-packages (from keras>=3.2.0->tensorflow) (0.0.8)\n",
            "Requirement already satisfied: optree in /usr/local/lib/python3.10/dist-packages (from keras>=3.2.0->tensorflow) (0.12.1)\n",
            "Requirement already satisfied: charset-normalizer<4,>=2 in /usr/local/lib/python3.10/dist-packages (from requests<3,>=2.21.0->tensorflow) (3.3.2)\n",
            "Requirement already satisfied: idna<4,>=2.5 in /usr/local/lib/python3.10/dist-packages (from requests<3,>=2.21.0->tensorflow) (3.7)\n",
            "Requirement already satisfied: urllib3<3,>=1.21.1 in /usr/local/lib/python3.10/dist-packages (from requests<3,>=2.21.0->tensorflow) (2.0.7)\n",
            "Requirement already satisfied: certifi>=2017.4.17 in /usr/local/lib/python3.10/dist-packages (from requests<3,>=2.21.0->tensorflow) (2024.7.4)\n",
            "Requirement already satisfied: markdown>=2.6.8 in /usr/local/lib/python3.10/dist-packages (from tensorboard<2.18,>=2.17->tensorflow) (3.6)\n",
            "Requirement already satisfied: tensorboard-data-server<0.8.0,>=0.7.0 in /usr/local/lib/python3.10/dist-packages (from tensorboard<2.18,>=2.17->tensorflow) (0.7.2)\n",
            "Requirement already satisfied: werkzeug>=1.0.1 in /usr/local/lib/python3.10/dist-packages (from tensorboard<2.18,>=2.17->tensorflow) (3.0.3)\n",
            "Requirement already satisfied: MarkupSafe>=2.1.1 in /usr/local/lib/python3.10/dist-packages (from werkzeug>=1.0.1->tensorboard<2.18,>=2.17->tensorflow) (2.1.5)\n",
            "Requirement already satisfied: markdown-it-py>=2.2.0 in /usr/local/lib/python3.10/dist-packages (from rich->keras>=3.2.0->tensorflow) (3.0.0)\n",
            "Requirement already satisfied: pygments<3.0.0,>=2.13.0 in /usr/local/lib/python3.10/dist-packages (from rich->keras>=3.2.0->tensorflow) (2.16.1)\n",
            "Requirement already satisfied: mdurl~=0.1 in /usr/local/lib/python3.10/dist-packages (from markdown-it-py>=2.2.0->rich->keras>=3.2.0->tensorflow) (0.1.2)\n"
          ]
        }
      ]
    },
    {
      "cell_type": "code",
      "execution_count": null,
      "id": "53cda7fb-fafc-4dda-88bb-9bc3877f9369",
      "metadata": {
        "tags": [],
        "id": "53cda7fb-fafc-4dda-88bb-9bc3877f9369",
        "colab": {
          "base_uri": "https://localhost:8080/"
        },
        "outputId": "ca8339d5-230c-48cf-ab7e-6dba95c8c25c"
      },
      "outputs": [
        {
          "output_type": "stream",
          "name": "stdout",
          "text": [
            "Index(['domain', 'label'], dtype='object')\n"
          ]
        }
      ],
      "source": [
        "import pandas as pd\n",
        "import numpy as np\n",
        "from sklearn.model_selection import train_test_split\n",
        "from tensorflow.keras.preprocessing.text import Tokenizer\n",
        "from tensorflow.keras.preprocessing.sequence import pad_sequences\n",
        "from tensorflow.keras.models import Sequential\n",
        "from tensorflow.keras.layers import Embedding, LSTM, Dense, Dropout\n",
        "from pandas.errors import ParserError # Import ParserError\n",
        "\n",
        "# Load the merged and labeled data, trying different delimiters\n",
        "try:\n",
        "    data = pd.read_csv('aditya.csv', sep=',')  # Try default comma first\n",
        "except ParserError:\n",
        "    try:\n",
        "        data = pd.read_csv('aditya.csv', sep=';')  # Try semicolon\n",
        "    except ParserError:\n",
        "        data = pd.read_csv('aditya.csv', sep='\\t')  # Try tab\n",
        "\n",
        "# Print the column names to verify if 'domain' exists\n",
        "print(data.columns)\n",
        "\n",
        "# Separate features (domain names) and labels\n",
        "# Adjust the column name if necessary based on the output above\n",
        "X = data['domain'].values  # Replace 'domain' with the correct column name if needed\n",
        "y = data['label'].values\n",
        "\n",
        "# ... (rest of your code remains the same)"
      ]
    },
    {
      "cell_type": "code",
      "execution_count": null,
      "id": "4fd1fe81-0014-438d-a715-233bdfe8180d",
      "metadata": {
        "tags": [],
        "colab": {
          "base_uri": "https://localhost:8080/"
        },
        "id": "4fd1fe81-0014-438d-a715-233bdfe8180d",
        "outputId": "00287207-05d2-4743-e296-dd4d1edd858e"
      },
      "outputs": [
        {
          "metadata": {
            "tags": null
          },
          "name": "stdout",
          "output_type": "stream",
          "text": [
            "Index(['domain', 'label'], dtype='object')\n"
          ]
        },
        {
          "metadata": {
            "tags": null
          },
          "name": "stderr",
          "output_type": "stream",
          "text": [
            "/usr/local/lib/python3.10/dist-packages/keras/src/layers/core/embedding.py:90: UserWarning: Argument `input_length` is deprecated. Just remove it.\n",
            "  warnings.warn(\n"
          ]
        },
        {
          "output_type": "stream",
          "name": "stdout",
          "text": [
            "Epoch 1/10\n",
            "\u001b[1m2330/2330\u001b[0m \u001b[32m━━━━━━━━━━━━━━━━━━━━\u001b[0m\u001b[37m\u001b[0m \u001b[1m475s\u001b[0m 201ms/step - accuracy: 0.9141 - loss: 0.1901 - val_accuracy: 0.9865 - val_loss: nan\n",
            "Epoch 2/10\n",
            "\u001b[1m2330/2330\u001b[0m \u001b[32m━━━━━━━━━━━━━━━━━━━━\u001b[0m\u001b[37m\u001b[0m \u001b[1m498s\u001b[0m 199ms/step - accuracy: 0.9971 - loss: 0.0098 - val_accuracy: 0.9883 - val_loss: nan\n",
            "Epoch 3/10\n",
            "\u001b[1m2330/2330\u001b[0m \u001b[32m━━━━━━━━━━━━━━━━━━━━\u001b[0m\u001b[37m\u001b[0m \u001b[1m499s\u001b[0m 198ms/step - accuracy: 0.9995 - loss: 0.0015 - val_accuracy: 0.9881 - val_loss: nan\n",
            "Epoch 4/10\n",
            "\u001b[1m2330/2330\u001b[0m \u001b[32m━━━━━━━━━━━━━━━━━━━━\u001b[0m\u001b[37m\u001b[0m \u001b[1m517s\u001b[0m 204ms/step - accuracy: 0.9999 - loss: 7.2741e-04 - val_accuracy: 0.9873 - val_loss: nan\n",
            "Epoch 5/10\n",
            "\u001b[1m2122/2330\u001b[0m \u001b[32m━━━━━━━━━━━━━━━━━━\u001b[0m\u001b[37m━━\u001b[0m \u001b[1m38s\u001b[0m 186ms/step - accuracy: 0.9999 - loss: 5.2942e-04"
          ]
        }
      ],
      "source": [
        "import pandas as pd\n",
        "import numpy as np\n",
        "from sklearn.model_selection import train_test_split # Import train_test_split\n",
        "from tensorflow.keras.preprocessing.text import Tokenizer\n",
        "from tensorflow.keras.preprocessing.sequence import pad_sequences\n",
        "from tensorflow.keras.models import Sequential\n",
        "from tensorflow.keras.layers import Embedding, LSTM, Dense, Dropout\n",
        "from pandas.errors import ParserError # Import ParserError\n",
        "\n",
        "# Load the merged and labeled data, trying different delimiters\n",
        "try:\n",
        "    data = pd.read_csv('aditya.csv', sep=',')  # Try default comma first\n",
        "except ParserError:\n",
        "    try:\n",
        "        data = pd.read_csv('aditya.csv', sep=';')  # Try semicolon\n",
        "    except ParserError:\n",
        "        data = pd.read_csv('aditya.csv', sep='\\t')  # Try tab\n",
        "\n",
        "# Print the column names to verify if 'domain' exists\n",
        "print(data.columns)\n",
        "\n",
        "# Separate features (domain names) and labels\n",
        "# Adjust the column name if necessary based on the output above\n",
        "X = data['domain'].values  # Replace 'domain' with the correct column name if needed\n",
        "y = data['label'].values\n",
        "\n",
        "# Tokenize the text data\n",
        "tokenizer = Tokenizer() # Create a tokenizer object\n",
        "tokenizer.fit_on_texts(X) # Fit the tokenizer on your text data\n",
        "X_sequences = tokenizer.texts_to_sequences(X) # Convert text to sequences\n",
        "\n",
        "# Pad sequences to have the same length\n",
        "maxlen = max([len(seq) for seq in X_sequences])\n",
        "X_padded = pad_sequences(X_sequences, maxlen=maxlen)\n",
        "\n",
        "# Split the data into training and testing sets\n",
        "X_train, X_test, y_train, y_test = train_test_split(X_padded, y, test_size=0.2, random_state=42) # Split the data\n",
        "\n",
        "# Build the LSTM model\n",
        "model = Sequential()\n",
        "model.add(Embedding(input_dim=len(tokenizer.word_index) + 1, output_dim=32, input_length=maxlen)) # Now tokenizer is defined\n",
        "model.add(LSTM(50, return_sequences=True))\n",
        "model.add(Dropout(0.2))\n",
        "model.add(LSTM(50))\n",
        "model.add(Dense(1, activation='sigmoid'))\n",
        "\n",
        "# Compile the model\n",
        "model.compile(loss='binary_crossentropy', optimizer='adam', metrics=['accuracy'])\n",
        "\n",
        "# Train the model\n",
        "model.fit(X_train, y_train, epochs=10, batch_size=32, validation_split=0.2) # Use the training data"
      ]
    },
    {
      "cell_type": "code",
      "execution_count": null,
      "id": "8850b1b3-0e32-4051-b4bb-e6ceacbab68e",
      "metadata": {
        "tags": [],
        "colab": {
          "base_uri": "https://localhost:8080/"
        },
        "id": "8850b1b3-0e32-4051-b4bb-e6ceacbab68e",
        "outputId": "de7257ac-477c-4b4a-8322-876801728d6f"
      },
      "outputs": [
        {
          "output_type": "stream",
          "name": "stdout",
          "text": [
            "\u001b[1m728/728\u001b[0m \u001b[32m━━━━━━━━━━━━━━━━━━━━\u001b[0m\u001b[37m\u001b[0m \u001b[1m37s\u001b[0m 50ms/step - accuracy: 0.4159 - loss: nan\n",
            "Test Accuracy: 0.42\n"
          ]
        }
      ],
      "source": [
        "# Evaluate the model on the test set\n",
        "loss, accuracy = model.evaluate(X_test, y_test)\n",
        "print(f'Test Accuracy: {accuracy:.2f}')\n"
      ]
    },
    {
      "cell_type": "code",
      "execution_count": null,
      "id": "86bbf806-cf21-43de-a226-f0f3f0ef566b",
      "metadata": {
        "tags": [],
        "colab": {
          "base_uri": "https://localhost:8080/"
        },
        "id": "86bbf806-cf21-43de-a226-f0f3f0ef566b",
        "outputId": "0f7c7ef9-8c22-4a79-e79b-62239d925acd"
      },
      "outputs": [
        {
          "output_type": "stream",
          "name": "stdout",
          "text": [
            "enter the domain: google.com\n",
            "\u001b[1m1/1\u001b[0m \u001b[32m━━━━━━━━━━━━━━━━━━━━\u001b[0m\u001b[37m\u001b[0m \u001b[1m1s\u001b[0m 703ms/step\n",
            "[0]\n"
          ]
        }
      ],
      "source": [
        "# Example of making predictions on new domains\n",
        "n = input(\"enter the domain: \")\n",
        "new_domains = [[n]]\n",
        "new_sequences = tokenizer.texts_to_sequences(new_domains)\n",
        "new_padded = pad_sequences(new_sequences, maxlen=maxlen, padding='post')\n",
        "\n",
        "# Predict whether the new domains are legitimate (0) or non-legitimate (1)\n",
        "predictions = model.predict(new_padded)\n",
        "predictions = [1 if p > 0.5 else 0 for p in predictions]\n",
        "print(predictions)\n",
        "\n"
      ]
    },
    {
      "cell_type": "code",
      "execution_count": null,
      "id": "59d9e167-6fcb-4987-a7aa-e887727b9705",
      "metadata": {
        "tags": [],
        "colab": {
          "base_uri": "https://localhost:8080/",
          "height": 569
        },
        "id": "59d9e167-6fcb-4987-a7aa-e887727b9705",
        "outputId": "b7be325d-fec3-42eb-d399-44cce25b7cc0"
      },
      "outputs": [
        {
          "output_type": "display_data",
          "data": {
            "text/plain": [
              "<Figure size 1200x600 with 2 Axes>"
            ],
            "image/png": "[encoded data removed]"
          },
          "metadata": {}
        }
      ],
      "source": [
        "import pandas as pd\n",
        "import matplotlib.pyplot as plt\n",
        "\n",
        "# Load the training and test data\n",
        "train_data = pd.read_csv('train_domains.csv')\n",
        "test_data = pd.read_csv('test_domains.csv')\n",
        "\n",
        "# Count the number of 0s and 1s in the training set\n",
        "train_counts = train_data['label'].value_counts()\n",
        "\n",
        "# Count the number of 0s and 1s in the test set\n",
        "test_counts = test_data['label'].value_counts()\n",
        "\n",
        "# Create a figure and axis\n",
        "fig, ax = plt.subplots(1, 2, figsize=(12, 6))\n",
        "\n",
        "# Plot for the training set\n",
        "ax[0].bar(train_counts.index, train_counts.values, color=['blue', 'red'])\n",
        "ax[0].set_title('Training Set Distribution')\n",
        "ax[0].set_xlabel('Label')\n",
        "ax[0].set_ylabel('Count')\n",
        "ax[0].set_xticks([0, 1])\n",
        "ax[0].set_xticklabels(['Legitimate (0)', 'Non-Legitimate (1)'])\n",
        "\n",
        "# Plot for the test set\n",
        "ax[1].bar(test_counts.index, test_counts.values, color=['blue', 'red'])\n",
        "ax[1].set_title('Test Set Distribution')\n",
        "ax[1].set_xlabel('Label')\n",
        "ax[1].set_ylabel('Count')\n",
        "ax[1].set_xticks([0, 1])\n",
        "ax[1].set_xticklabels(['Legitimate (0)', 'Non-Legitimate (1)'])\n",
        "\n",
        "# Show the plots\n",
        "plt.tight_layout()\n",
        "plt.show()\n"
      ]
    },
    {
      "cell_type": "code",
      "execution_count": null,
      "id": "c7669a19-7da3-4b94-9b58-3bd07d02abb6",
      "metadata": {
        "id": "c7669a19-7da3-4b94-9b58-3bd07d02abb6"
      },
      "outputs": [],
      "source": []
    }
  ],
  "metadata": {
    "kernelspec": {
      "display_name": "Python 3 (ipykernel)",
      "language": "python",
      "name": "python3"
    },
    "language_info": {
      "codemirror_mode": {
        "name": "ipython",
        "version": 3
      },
      "file_extension": ".py",
      "mimetype": "text/x-python",
      "name": "python",
      "nbconvert_exporter": "python",
      "pygments_lexer": "ipython3",
      "version": "3.11.7"
    },
    "colab": {
      "provenance": []
    }
  },
  "nbformat": 4,
  "nbformat_minor": 5
}